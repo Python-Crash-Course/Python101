{
 "cells": [
  {
   "cell_type": "markdown",
   "metadata": {},
   "source": [
    "# 7. Transformation functions\n",
    "\n",
    "Coordinate transformations can be performed by matrix operations. Some common ones are:\n",
    "\n",
    "\\begin{equation}\n",
    "\\tag{Rotation about Origin}\n",
    "\\begin{bmatrix}\n",
    "x_{\\text{rotated}}\\\\y_{\\text{rotated}}\\\\1\n",
    "\\end{bmatrix} = \n",
    "\\begin{bmatrix}\n",
    "\\cos(\\theta) & \\sin(\\theta) & 0 \\\\\n",
    "-\\sin(\\theta) & \\cos(\\theta) & 0 \\\\\n",
    "0 & 0 & 1 \n",
    "\\end{bmatrix}\n",
    "\\begin{bmatrix} x \\\\ y \\\\ 1 \\end{bmatrix}\n",
    "\\end{equation}\n",
    "\n",
    "\n",
    "\\begin{equation}\n",
    "\\tag{Translation}\n",
    "\\begin{bmatrix}\n",
    "x_{\\text{translated}}\\\\y_{\\text{translated}}\\\\1\n",
    "\\end{bmatrix} = \n",
    "\\begin{bmatrix}\n",
    "1 & 0 & \\Delta x \\\\\n",
    "0 & 1 & \\Delta y \\\\\n",
    "0 & 0 & 1 \n",
    "\\end{bmatrix}\n",
    "\\begin{bmatrix} x \\\\ y \\\\ 1 \\end{bmatrix}\n",
    "\\end{equation}\n",
    "\n",
    "\n",
    "\\begin{equation}\n",
    "\\tag{Scale about Origin}\n",
    "\\begin{bmatrix}\n",
    "x_{\\text{scaled}}\\\\y_{\\text{scaled}}\\\\1\n",
    "\\end{bmatrix} = \n",
    "\\begin{bmatrix}\n",
    "C_x & 0 & 0 \\\\\n",
    "0 & C_y & 0 \\\\\n",
    "0 & 0 & 1 \n",
    "\\end{bmatrix}\n",
    "\\begin{bmatrix} x \\\\ y \\\\ 1 \\end{bmatrix}\n",
    "\\end{equation}\n",
    "\n",
    "\n",
    "\n",
    "\\begin{equation}\n",
    "\\tag{Mirror about $y$-axis}\n",
    "\\begin{bmatrix}\n",
    "x_{\\text{mirrored}}\\\\y_{\\text{mirrored}}\\\\1\n",
    "\\end{bmatrix} = \n",
    "\\begin{bmatrix}\n",
    "-1 & 0 & 0 \\\\\n",
    "0 & 1 & 0 \\\\\n",
    "0 & 0 & 1 \n",
    "\\end{bmatrix}\n",
    "\\begin{bmatrix} x \\\\ y \\\\ 1 \\end{bmatrix}\n",
    "\\end{equation}\n",
    "\n",
    "\n",
    "* In the **rotation matrix** it is assumed that the angle $\\theta$ is a clockwise rotation.\n",
    "\n",
    "\n",
    "* In the **translation matrix** $\\Delta x$ and $\\Delta y$ denote the absolute translation in the $x$- and $y$-direction, respectively.\n",
    "\n",
    "\n",
    "* In the **scaling matrix** $C_x$ and $C_y$ denote the scaling in the $x$- and $y$-direction, respectively. \n",
    "\n",
    "\n",
    "* The **mirroring matrix** has no inputs and simply flips the sign for the directions to be mirrored. \n",
    "\n",
    "See more here: https://upload.wikimedia.org/wikipedia/commons/2/2c/2D_affine_transformation_matrix.svg"
   ]
  },
  {
   "cell_type": "markdown",
   "metadata": {},
   "source": [
    "## Vectorization in `numpy`\n",
    "`numpy` can perform calculation in a vectorized manner meaning that vector and matrix operations can be done on entire arrays at a time as opposed to value by value. \n",
    "\n",
    ">**Vectorization can eliminate the use of for-loops in many scenarios**\n",
    "> \n",
    ">This makes the code easier to read and write. And as an added bonus, vectorized calculations are also much faster than their looping counterparts.\n",
    "\n",
    "For the equations above, we can utilize vectorization by using an arrays of values for $x$ and $y$ instead of single values. That implies that $1$ also must be an array of ones with the same size.\n",
    "\n",
    "Thus, each vector $[x, y, 1]^T$ on the right hand side of the equations are actually an **array of arrays.**\n",
    "\n",
    "The resulting vector $[x_{\\text{transformed}}, y_{\\text{transformed}}, 1]^T$ is of course also an **array or arrays.**\n",
    "\n",
    "## Unpacking values\n",
    "A small example that demontrates unpacking of returned values from a function:\n"
   ]
  },
  {
   "cell_type": "code",
   "execution_count": 1,
   "metadata": {},
   "outputs": [
    {
     "data": {
      "text/plain": [
       "(1, 2, 3)"
      ]
     },
     "execution_count": 1,
     "metadata": {},
     "output_type": "execute_result"
    }
   ],
   "source": [
    "def f():\n",
    "    '''\n",
    "    Define function that takes no input and returns three values\n",
    "    '''\n",
    "    return 1, 2, 3\n",
    "\n",
    "# Call function and save result in variable\n",
    "result = f()\n",
    "result"
   ]
  },
  {
   "cell_type": "markdown",
   "metadata": {},
   "source": [
    ">**Note:** When returning multiple values from a function, they will by default be a `tuple`. This is basically the same as if the last line of the function would have been `return (1, 2, 3)`.\n",
    "\n",
    "Unpacking the result to three variables:"
   ]
  },
  {
   "cell_type": "code",
   "execution_count": 2,
   "metadata": {},
   "outputs": [
    {
     "data": {
      "text/plain": [
       "1"
      ]
     },
     "execution_count": 2,
     "metadata": {},
     "output_type": "execute_result"
    }
   ],
   "source": [
    "# Unpack function output to three variables\n",
    "a, b, c = f()\n",
    "\n",
    "# Print a, b and c\n",
    "a"
   ]
  },
  {
   "cell_type": "code",
   "execution_count": 3,
   "metadata": {},
   "outputs": [
    {
     "data": {
      "text/plain": [
       "2"
      ]
     },
     "execution_count": 3,
     "metadata": {},
     "output_type": "execute_result"
    }
   ],
   "source": [
    "b"
   ]
  },
  {
   "cell_type": "code",
   "execution_count": 4,
   "metadata": {},
   "outputs": [
    {
     "data": {
      "text/plain": [
       "3"
      ]
     },
     "execution_count": 4,
     "metadata": {},
     "output_type": "execute_result"
    }
   ],
   "source": [
    "c"
   ]
  },
  {
   "cell_type": "markdown",
   "metadata": {},
   "source": [
    "As we see, if we do not unpack, all values are saved in a tuple. If we unpack all returned values, they each get assgined to a variable.\n",
    "\n",
    "**But**, if we try to unpack only 2 values when the function returns 3 we get this error:"
   ]
  },
  {
   "cell_type": "code",
   "execution_count": 5,
   "metadata": {},
   "outputs": [
    {
     "ename": "ValueError",
     "evalue": "too many values to unpack (expected 2)",
     "output_type": "error",
     "traceback": [
      "\u001b[1;31m---------------------------------------------------------------------------\u001b[0m",
      "\u001b[1;31mValueError\u001b[0m                                Traceback (most recent call last)",
      "\u001b[1;32m<ipython-input-5-393f2c6eb4f0>\u001b[0m in \u001b[0;36m<module>\u001b[1;34m\u001b[0m\n\u001b[0;32m      1\u001b[0m \u001b[1;31m# ValueError, function returns 3 values, but only 2 unpacked\u001b[0m\u001b[1;33m\u001b[0m\u001b[1;33m\u001b[0m\u001b[1;33m\u001b[0m\u001b[0m\n\u001b[1;32m----> 2\u001b[1;33m \u001b[0mh\u001b[0m\u001b[1;33m,\u001b[0m \u001b[0mi\u001b[0m \u001b[1;33m=\u001b[0m \u001b[0mf\u001b[0m\u001b[1;33m(\u001b[0m\u001b[1;33m)\u001b[0m\u001b[1;33m\u001b[0m\u001b[1;33m\u001b[0m\u001b[0m\n\u001b[0m",
      "\u001b[1;31mValueError\u001b[0m: too many values to unpack (expected 2)"
     ]
    }
   ],
   "source": [
    "# ValueError, function returns 3 values, but only 2 unpacked\n",
    "h, i = f()"
   ]
  },
  {
   "cell_type": "markdown",
   "metadata": {},
   "source": [
    "If we try to unpack too many values:"
   ]
  },
  {
   "cell_type": "code",
   "execution_count": 6,
   "metadata": {},
   "outputs": [
    {
     "ename": "ValueError",
     "evalue": "not enough values to unpack (expected 4, got 3)",
     "output_type": "error",
     "traceback": [
      "\u001b[1;31m---------------------------------------------------------------------------\u001b[0m",
      "\u001b[1;31mValueError\u001b[0m                                Traceback (most recent call last)",
      "\u001b[1;32m<ipython-input-6-6809bb4f4bd8>\u001b[0m in \u001b[0;36m<module>\u001b[1;34m\u001b[0m\n\u001b[0;32m      1\u001b[0m \u001b[1;31m# ValueError, function returns 3 values, but 4 were unpacked\u001b[0m\u001b[1;33m\u001b[0m\u001b[1;33m\u001b[0m\u001b[1;33m\u001b[0m\u001b[0m\n\u001b[1;32m----> 2\u001b[1;33m \u001b[0mh\u001b[0m\u001b[1;33m,\u001b[0m \u001b[0mi\u001b[0m\u001b[1;33m,\u001b[0m \u001b[0mj\u001b[0m\u001b[1;33m,\u001b[0m \u001b[0mk\u001b[0m \u001b[1;33m=\u001b[0m \u001b[0mf\u001b[0m\u001b[1;33m(\u001b[0m\u001b[1;33m)\u001b[0m\u001b[1;33m\u001b[0m\u001b[1;33m\u001b[0m\u001b[0m\n\u001b[0m",
      "\u001b[1;31mValueError\u001b[0m: not enough values to unpack (expected 4, got 3)"
     ]
    }
   ],
   "source": [
    "# ValueError, function returns 3 values, but 4 were unpacked\n",
    "h, i, j, k = f()"
   ]
  },
  {
   "cell_type": "markdown",
   "metadata": {},
   "source": [
    "> **When unpacking, the variables of the left side of the equal sign must exactly match the number of outputs, so all unpacked elements are accounted for.**\n",
    "\n",
    "There are fancier ways to unpack which can handle cases where it is not known how many elements are to be unpacked. See for example https://www.python.org/dev/peps/pep-3132/. "
   ]
  },
  {
   "cell_type": "markdown",
   "metadata": {},
   "source": [
    "### Unpacking values for the transformation examples\n",
    "The resulting array of arrays will have the following code structure\n",
    "\n",
    "~~~python \n",
    "# Define an array of arrays\n",
    "array_of_arrays = [ [x_values], [y_values], [ones] ]\n",
    "~~~\n",
    "\n",
    "**Unpacking** `x-values` and `y_values` to their own arrays can be done like this:\n",
    "\n",
    "~~~python\n",
    "# Unpack an array of arrays\n",
    "x_values, y_values, ones = array_of_arrays\n",
    "~~~\n",
    "\n",
    "In this case, we don't care about the array of ones. It is a quite common scenario that a function returns some values that are not needed. \n",
    "\n",
    ">**It is common convention in Python to unpack unused variables to `_`**\n",
    "\n",
    "Like this:\n",
    "\n",
    "~~~python\n",
    "# Convention for unpacking unused variables\n",
    "x_transformed, y_transformed, _ = array_of_arrays\n",
    "~~~\n",
    "\n",
    "By following this convention, it is clear to readers of the code that this value is not going to be used throughout the program.\n",
    "\n",
    "\n",
    "## Some `numpy` functions\n",
    "\n",
    "### Function: `numpy.matmul`\n",
    "This function will find the matrix product of two arrays:"
   ]
  },
  {
   "cell_type": "code",
   "execution_count": 7,
   "metadata": {},
   "outputs": [
    {
     "data": {
      "text/plain": [
       "array([18,  8,  8])"
      ]
     },
     "execution_count": 7,
     "metadata": {},
     "output_type": "execute_result"
    }
   ],
   "source": [
    "import numpy as np\n",
    "\n",
    "# Define a vector\n",
    "a = np.array([1, 2, 3])\n",
    "\n",
    "# Define a matrix\n",
    "T = np.array([ [1, 1, 5], [3, 1, 1], [5, 0, 1] ])\n",
    "\n",
    "# Compute the matrix product {T}x{a}\n",
    "b = np.matmul(T, a) \n",
    "b"
   ]
  },
  {
   "cell_type": "markdown",
   "metadata": {},
   "source": [
    "### Function: `np.ones`\n",
    "Creates an array of ones of a specified shape"
   ]
  },
  {
   "cell_type": "code",
   "execution_count": 8,
   "metadata": {},
   "outputs": [
    {
     "data": {
      "text/plain": [
       "array([1., 1., 1., 1., 1.])"
      ]
     },
     "execution_count": 8,
     "metadata": {},
     "output_type": "execute_result"
    }
   ],
   "source": [
    "# Create 5x1 vector of ones (1D array)\n",
    "np.ones(5)"
   ]
  },
  {
   "cell_type": "code",
   "execution_count": 9,
   "metadata": {},
   "outputs": [
    {
     "data": {
      "text/plain": [
       "array([[1., 1., 1., 1., 1.],\n",
       "       [1., 1., 1., 1., 1.],\n",
       "       [1., 1., 1., 1., 1.],\n",
       "       [1., 1., 1., 1., 1.],\n",
       "       [1., 1., 1., 1., 1.]])"
      ]
     },
     "execution_count": 9,
     "metadata": {},
     "output_type": "execute_result"
    }
   ],
   "source": [
    "# Create 5x5 matrix of ones (2D array)\n",
    "np.ones([5, 5])"
   ]
  },
  {
   "cell_type": "markdown",
   "metadata": {},
   "source": [
    "# Exercise 1\n",
    "Write a function that implements rotation of an array of coordinates `x` and `y`. The angle of rotation in clockwise direction should be an input parameter with default value of 90 degrees. The function should return the rotated coordinates `xr` and `yr`.\n",
    "\n",
    "Test the function with these arrays.\n",
    "\n",
    "```python\n",
    "# Test arrays to transform\n",
    "x = np.array([-5, 5, 5, 0.5, 0.5, 5, 5, -5, -5, -0.5, -0.5, -5, -5])\n",
    "y = np.array([-8, -8, -6, -6, 6, 6, 8, 8, 6, 6, -6, -6, -8])\n",
    "```"
   ]
  },
  {
   "cell_type": "markdown",
   "metadata": {},
   "source": [
    "# Exercise 2\n",
    "Write a function that takes a pair of arrays of transformed coordinates `xt` and `yt` as input and plots them as a line plot. The function should be able to plot the original coordinates as well, but this should be optional and not plotted as default.\n",
    "\n",
    "Plot the original shape from Exercise 1 together with the rotated shape.\n",
    "\n",
    "*A good way of setting default values for parameters that should not be present as default is by setting them equal to None in the function definition. The code inside the function can then check if values were input or not.*"
   ]
  },
  {
   "cell_type": "markdown",
   "metadata": {},
   "source": [
    "# Exercise 3\n",
    "Write a function that implements translation of an array of coordinates `x` and `y`. The translation shall be defined by values (not arrays) `x_translate` and `y_translate`, which are the distance the points will move in the $x$- and $y$-direction, respectively.\n",
    "\n",
    "Test the function with the arrays given in Exercise 1. Plot the translation with the function written in Exercise 2."
   ]
  },
  {
   "cell_type": "markdown",
   "metadata": {},
   "source": [
    "# Exercise 4\n",
    "Implement the scaling transformation as a function. Test it by plotting it."
   ]
  },
  {
   "cell_type": "markdown",
   "metadata": {},
   "source": [
    "# Exercise 5\n",
    "Implement mirroring transformation about the $y$-axis as a function.\n",
    "\n",
    "Since the given coordinates in Exercise 1 are symmetric about the $y$-axis, the mirrored coordinates will lie on top of the original ones. Try to test it by plotting.\n",
    "\n",
    "You can quickly make a more visible test by moving all the $x$-coordinates, say 20 units to the right. Since we are using `numpy` this can be done by simply adding 20 to the array itself `x + 20`. This is refered to as Broadcasting."
   ]
  },
  {
   "cell_type": "markdown",
   "metadata": {},
   "source": [
    "# Exercise 6\n",
    "Write a function that combines all of the above transformations in one. \n",
    "\n",
    "It could have a structure like this:\n",
    "\n",
    "```python\n",
    "def transform(x, y, rotation=0, scaling=(1, 1), translation=(0, 0), mirroring=False):\n",
    "    '''\n",
    "    Perform a combined coordinate transformation according to given inputs. If no inputs are given, return the unchanged coordinates.\n",
    "\n",
    "    Args:\n",
    "        x (array)                   : x-values to transform.\n",
    "        y (array)                   : y-values to transform.\n",
    "        rotate (float, optional)    : Clockwise rotation angle in [deg]. Defaults to no rotation.\n",
    "        scale (float, optional)     : Scaling factor in axes directions (cx, cy). Defaults to no scaling.\n",
    "        translate (tuple, optional) : Translation in axes directions (dx, dy). Defaults to no translation.\n",
    "        mirror (bool, optional)     : Whether or not to mirror the coordinates, Defaults to no mirroring.\n",
    "    '''\n",
    "\n",
    "    # Code here\n",
    "```\n",
    "* Remember that rotation and scaling are performed about the origin. So the order of operations will matter.\n",
    "* If you wish, you can call the previously defined functions to perform the individual transformations. \n",
    "* Return the transformed coordinates xt, yt.\n",
    "\n",
    "*When performing multiple transformations at once, the transformation matrices can be multiplied by each other prior to multiplication with the original coordinates. But since we have all the individual transformation functions already defined the solution will successively call those. The loss in calculation speed by performing the redundant multiplication is not noticeable for smaller datasets.*"
   ]
  },
  {
   "cell_type": "markdown",
   "metadata": {},
   "source": [
    "# Additional Exercise\n",
    "Write an alternative function for translation where the translation input can be given as a distance that the points should move and the corresponding angle from the $x$-axis. This can often be useful instead of the one defined earlier where the distances are given parallel to the $x$- and $y$-axes."
   ]
  },
  {
   "cell_type": "markdown",
   "metadata": {},
   "source": [
    "# End of exercises\n",
    "\n",
    "*The cell below is for setting the style of this document. It's not part of the exercises.*"
   ]
  },
  {
   "cell_type": "code",
   "execution_count": 10,
   "metadata": {},
   "outputs": [
    {
     "data": {
      "text/html": [
       "<style>\n",
       "/* div#notebook {\n",
       " font-size: 13pt;\n",
       " line-height: 120%;\n",
       " color: #303030;\n",
       " -webkit-font-smoothing: antialiased !important;\n",
       " padding-top: 25px !important;\n",
       "} */\n",
       "\n",
       "\n",
       "body,\n",
       "div.body {\n",
       " font-family: Roboto;\n",
       " /* font-size: 16pt; */\n",
       " color: #303030;\n",
       " /* background-color: #d1b5b5; */\n",
       " /* background: #8f4f4f; */\n",
       " margin-right: 10px;\n",
       " /* -webkit-font-smoothing: antialiased !important; */\n",
       "}\n",
       "\n",
       "/* Code inside HTML/Markdown */\n",
       "div.rendered_html code {\n",
       "    border-radius: 5px;\n",
       "}\n",
       "\n",
       "/* Output area from code cells */\n",
       "div.output_area pre {\n",
       "    /* font-size: 11pt !important; */\n",
       "    color: #303030;\n",
       "}\n",
       "\n",
       "\n",
       "\n",
       "/* HEADING 1 styles */\n",
       "h1 {\n",
       "    font-family: 'Roboto', 'Signika', sans-serif;\n",
       "    font-weight: ligher;\n",
       "    font-style: normal;\n",
       "    /* font-size: 20pt; */\n",
       "    width: 100%;\n",
       "    text-align: left;\n",
       "    color: #EE7631;\n",
       "    border-bottom: 1px solid rgba(238, 118, 49, 0.575);\n",
       "    padding-bottom: 6px;\n",
       "    /* font-variant: small-caps; */\n",
       "    }\n",
       "  \n",
       "    /* table {\n",
       "        margin: 5px;\n",
       "        width: 290px;\n",
       "    }\n",
       "  \n",
       "    th {\n",
       "        padding: 3px;\n",
       "    }\n",
       "  \n",
       "    td {\n",
       "        padding-left: 8px;\n",
       "        padding-right: 8px;\n",
       "        border: 1px solid #990000;\n",
       "        background-color: #ffffcc;\n",
       "    }\n",
       "\n",
       "    #trHeader {\n",
       "        text-decoration: underline;\n",
       "        color: #990000;\n",
       "    }\n",
       "  \n",
       "    .centerCell {\n",
       "        text-align: center;\n",
       "    } */\n",
       "\n",
       "/* HEADING 2 styles */\n",
       "h2 {\n",
       "        font-family: \"Roboto\";\n",
       "        text-align: left;\n",
       "        /* font-size: 12pt; */\n",
       "        color: #EE7631;\n",
       "        margin-bottom: 5px;\n",
       "        /* border-bottom: 1px solid lightgray; */\n",
       "        border-bottom: 0.8px solid rgba(238, 118, 49, 0.575);\n",
       "        padding-bottom: 6px\n",
       "    }\n",
       "  \n",
       "    /* table {\n",
       "        margin: 5px;\n",
       "        width: 290px;\n",
       "    }\n",
       "  \n",
       "    th {\n",
       "        padding: 3px;\n",
       "    }\n",
       "  \n",
       "    td {\n",
       "        padding-left: 8px;\n",
       "        padding-right: 8px;\n",
       "        border: 1px solid #990000;\n",
       "        background-color: #ffffcc;\n",
       "    }\n",
       "\n",
       "    #trHeader {\n",
       "        text-decoration: underline;\n",
       "        color: #990000;\n",
       "    }\n",
       "  \n",
       "    .centerCell {\n",
       "        text-align: center;\n",
       "    } */\n",
       "\n",
       "h3 {\n",
       "        font-family: 'Roboto';\n",
       "        /* text-align: left; */\n",
       "        /* font-size: 12pt; */\n",
       "        /* color: #EE7631; */\n",
       "        /* margin-bottom: 5px; */\n",
       "        border-bottom: 0.5px solid #ededed;\n",
       "        padding-bottom: 6px\n",
       "    }\n",
       "\n",
       "\n",
       "\n",
       "p {\n",
       "    font-family: Roboto;\n",
       "    font-size: 16px;\n",
       "}\n",
       "\n",
       "/* Lists  with dots */\n",
       "ul {\n",
       "    font-size: 16px;\n",
       "    line-height: 150%;\n",
       "}\n",
       "\n",
       "/* Lists  with numbers */\n",
       "ol {\n",
       "    font-size: 16px;\n",
       "    line-height: 150%;\n",
       "}\n",
       "\n",
       "/* Horizontal rules */\n",
       "hr { \n",
       "    margin-top: 3px; \n",
       "    margin-bottom: 3px \n",
       "}\n",
       "\n",
       "/* Links */\n",
       "a {\n",
       "  color: #EE7631;\n",
       "}\n",
       "\n",
       "\n",
       "/* Change global font size (for code) */\n",
       ".CodeMirror {\n",
       "font-size: 16px !important;\n",
       "font-family: monospace;\n",
       "}\n",
       "\n",
       "\n",
       "/* Code cells in the notebook - NOTE: color is font-color */\n",
       ".cm-s-ipython.CodeMirror {\n",
       " font-family: monospace, monospace;\n",
       " /* font-size: 11pt; */\n",
       " background: #ededed;\n",
       " color: #303030;     \n",
       " border-radius: 2px;\n",
       " /* margin-right: 10px; */\n",
       " font-style: normal;\n",
       " font-weight: normal;\n",
       "}\n",
       "\n",
       "\n",
       "/* Background of code cells */\n",
       ".cm-s-ipython.CodeMirror {\n",
       " font-family: monospace, monospace;\n",
       " /* font-size: 11pt; */\n",
       " background: rgba(211, 211, 211, 0.123);\n",
       " color: #303030;\n",
       " border-radius: 2px;\n",
       " font-style: normal;\n",
       " font-weight: normal;\n",
       "}\n",
       "\n",
       "\n",
       "/* .CodeMirror-gutters {\n",
       " border: none;\n",
       " border-right: 1px solid #e0e1e3 !important;\n",
       " background-color: #e0e1e3 !important;\n",
       " background: #e0e1e3 !important;\n",
       " border-radius: 0px;\n",
       " white-space: nowrap;\n",
       "} */\n",
       "\n",
       "\n",
       "\n",
       "/* Code syntax highlithig theme */\n",
       ".cm-s-ipython .CodeMirror-cursor {\n",
       " border-left: 2px solid #ff711a !important;\n",
       "}\n",
       ".cm-s-ipython span.cm-comment {\n",
       " color: #8d8d8d;\n",
       " font-style: italic;                                                   \n",
       "}\n",
       ".cm-s-ipython span.cm-atom {\n",
       " color: #055be0;\n",
       "}\n",
       ".cm-s-ipython span.cm-number {\n",
       " color: #ff8132;\n",
       "}\n",
       ".cm-s-ipython span.cm-property {\n",
       " color: #303030;\n",
       "}\n",
       ".cm-s-ipython span.cm-attribute {\n",
       " color: #303030;\n",
       "}\n",
       ".cm-s-ipython span.cm-keyword {\n",
       " color: #a045ddf3;\n",
       " font-weight: normal;\n",
       "}\n",
       ".cm-s-ipython span.cm-string {\n",
       " color: #009e07;\n",
       "}\n",
       ".cm-s-ipython span.cm-meta {\n",
       " color: #aa22ff;\n",
       "}\n",
       ".cm-s-ipython span.cm-operator {\n",
       " color: #055be0;\n",
       "}\n",
       ".cm-s-ipython span.cm-builtin {\n",
       " color: #3f2ce7;\n",
       "}\n",
       ".cm-s-ipython span.cm-variable {\n",
       " color: #303030;\n",
       "}\n",
       ".cm-s-ipython span.cm-variable-2 {\n",
       " color: #de143d;\n",
       "}\n",
       ".cm-s-ipython span.cm-variable-3 {\n",
       " color: #aa22ff;\n",
       "}\n",
       ".cm-s-ipython span.cm-def {\n",
       " color: #e22978;\n",
       " font-weight: normal;\n",
       "}\n",
       ".cm-s-ipython span.cm-error {\n",
       " background: rgba(191,11,55,.70);\n",
       "}\n",
       ".cm-s-ipython span.cm-tag {\n",
       " color: #e22978;\n",
       "}\n",
       ".cm-s-ipython span.cm-link {\n",
       " color: #ef5c00;\n",
       "}\n",
       ".cm-s-ipython span.cm-storage {\n",
       " color: #055be0;\n",
       "}\n",
       ".cm-s-ipython span.cm-entity {\n",
       " color: #e22978;\n",
       "}\n",
       ".cm-s-ipython span.cm-quote {\n",
       " color: #009e07;\n",
       "}\n",
       "</style>"
      ],
      "text/plain": [
       "<IPython.core.display.HTML object>"
      ]
     },
     "execution_count": 10,
     "metadata": {},
     "output_type": "execute_result"
    }
   ],
   "source": [
    "from IPython.display import HTML\n",
    "HTML('<style>{}</style>'.format(open('../css/cowi.css').read()))"
   ]
  }
 ],
 "metadata": {
  "hide_input": false,
  "kernelspec": {
   "display_name": "Python 3",
   "language": "python",
   "name": "python3"
  },
  "language_info": {
   "codemirror_mode": {
    "name": "ipython",
    "version": 3
   },
   "file_extension": ".py",
   "mimetype": "text/x-python",
   "name": "python",
   "nbconvert_exporter": "python",
   "pygments_lexer": "ipython3",
   "version": "3.7.3"
  },
  "latex_envs": {
   "LaTeX_envs_menu_present": true,
   "autoclose": false,
   "autocomplete": true,
   "bibliofile": "biblio.bib",
   "cite_by": "apalike",
   "current_citInitial": 1,
   "eqLabelWithNumbers": true,
   "eqNumInitial": 1,
   "hotkeys": {
    "equation": "Ctrl-E",
    "itemize": "Ctrl-I"
   },
   "labels_anchors": false,
   "latex_user_defs": false,
   "report_style_numbering": false,
   "user_envs_cfg": false
  },
  "toc": {
   "base_numbering": 1,
   "nav_menu": {},
   "number_sections": false,
   "sideBar": true,
   "skip_h1_title": false,
   "title_cell": "Table of Contents",
   "title_sidebar": "Table of Contents",
   "toc_cell": false,
   "toc_position": {
    "height": "calc(100% - 180px)",
    "left": "10px",
    "top": "150px",
    "width": "165px"
   },
   "toc_section_display": true,
   "toc_window_display": true
  }
 },
 "nbformat": 4,
 "nbformat_minor": 2
}
